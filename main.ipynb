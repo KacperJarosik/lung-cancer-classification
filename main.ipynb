{
 "cells": [
  {
   "cell_type": "markdown",
   "id": "33b88443",
   "metadata": {},
   "source": [
    "# Klasyfikacja nowotworu płuc"
   ]
  },
  {
   "cell_type": "markdown",
   "id": "a2644cfb",
   "metadata": {},
   "source": [
    "## Zbiory danych [KJ]"
   ]
  },
  {
   "cell_type": "markdown",
   "id": "8f7ff67c",
   "metadata": {},
   "source": [
    "### IQ-OTH/NCCD\n",
    "**Pochodzenie:**  \n",
    "https://www.kaggle.com/datasets/hamdallak/the-iqothnccd-lung-cancer-dataset  \n",
    "The Iraq-Oncology Teaching Hospital/National Center for Cancer Diseases (IQ-OTH/NCCD) lung cancer dataset was collected in the above-mentioned specialist hospitals over a period of three months in fall 2019.\n",
    "\n",
    "**Licencja**  \n",
    "CC0: Public Domain\n",
    "\n",
    "**Artykuły:**  \n",
    "- Zargar, Hasan Hejbari, et al. \"Using VGG16 Algorithms for classification of lung cancer in CT scans Image.\" arXiv preprint arXiv:2305.18367 (2023).  \n",
    "*Metrics: Acc: 91 Sen: 92.08  AUC: 93 ; Imaging: CT scans ; Methods: VGG16*\n",
    "\n",
    "- Kumaran S, Yogesh, et al. \"Explainable lung cancer classification with ensemble transfer learning of VGG16, Resnet50 and InceptionV3 using grad-cam.\" BMC medical imaging 24.1 (2024): 176.  \n",
    "*Metrics: Acc 98.18 VGG16, ResNet50,InceptionV3 ; Imaging: CT scans ; Methods: Ensemble pre-trained networks*\n",
    "\n",
    "- Qadir, Abdalbasit Mohammed, Peshraw Ahmed Abdalla, and Dana Faiq Abd. \"A Hybrid Lung Cancer Model for Diagnosis and Stage Classification from Computed Tomography Images.\" Iraqi Journal for Electrical & Electronic Engineering 20.2 (2024).  \n",
    "*Metrics: Acc 98.54 Pre 98.63 ; Imaging: CT scans ; Methods: Hybrid-LCSCDM*"
   ]
  },
  {
   "cell_type": "markdown",
   "id": "2d862c0c",
   "metadata": {},
   "source": [
    "### LUNA16\n",
    "**Pochodzenie:**  \n",
    "https://www.kaggle.com/datasets/avc0706/luna16?select=evaluationScript  \n",
    "https://paperswithcode.com/dataset/luna16  \n",
    "Universal Lesion Detection by Learning from Multiple Heterogeneously Labeled Datasets  \n",
    "Autorzy: Ke Yan, Jinzheng Cai, Adam P. Harrison, Dakai Jin, Jing Xiao, Le Lu\n",
    "**Licencja**  \n",
    "CC BY 4.0\n",
    "\n",
    "**Artykuły:**  \n",
    "- Naseer, Iftikhar, et al. \"Lung cancer classification using modified u-net based lobe segmentation and nodule detection.\" IEEE Access 11 (2023): 60279-60291.  \n",
    "*Metrics: Acc: 97.98 Sen: 98.84  Spe: 97.47 Pre: 97.53 F1 score: 97.70 ; Imaging: CT scans ; Methods: Modified U-Net + modified AlexNet*\n",
    "\n",
    "- Saleh, Abdulrazak Yahya, Chee Ka Chin, and Ros Ameera Rosdi. \"Transfer Learning for Lung Nodules Classification with CNN and Random Forest.\" Pertanika Journal of Science & Technology 32.1 (2024).  \n",
    "*Metrics: AAcc: 98.53 Sen: 98.74  Spe: 98.32 F1 score: 98.54 AUC: 0.985 ; Imaging: CT scans ; Methods: Hybrid CNN with transfer learning and random forest*\n",
    "\n",
    "- Saha, Anindita, et al. \"VER-Net: a hybrid transfer learning model for lung cancer detection using CT scan images.\" BMC medical imaging 24.1 (2024): 120.  \n",
    "*Metrics: Acc 99.2 Sens 98.8 Spe 99.6 ; Imaging: CT scans ; Methods: 3D-ResNet Model*"
   ]
  },
  {
   "cell_type": "markdown",
   "id": "9c0bd382",
   "metadata": {},
   "source": [
    "### LIDC-IDRI\n",
    "**Pochodzenie:**  \n",
    "https://www.kaggle.com/datasets/zhangweiled/lidcidri?resource=download  \n",
    "https://www.cancerimagingarchive.net/collection/lidc-idri/\n",
    "\n",
    "**Licencja**  \n",
    "Cytowanie danych\n",
    "Armato III, SG, McLennan, G., Bidaut, L., McNitt-Gray, MF, Meyer, CR, Reeves, AP, Zhao, B., Aberle, DR, Henschke, CI, Hoffman, EA, Kazerooni, EA, MacMahon, H., Van Beek, EJR, Yankelevitz, D., Biancardi, AM, Bland, PH, Brown, MS, Engelmann, RM, Laderach, GE, Max, D., Pais, RC , Qing, DPY , Roberts, RY, Smith, AR, Starkey, A., Batra, P., Caligiuri, P., Farooqi, A., Gladish, GW, Jude, CM, Munden, RF, Petkovska, I., Quint, LE, Schwartz, LH, Sundaram, B., Dodd, LE, Fenimore, C., Gur, D., Petrick, N., Freymann, J., Kirby, J., Hughes, B., Casteele, AV, Gupte, S., Sallam, M., Heath, MD, Kuhn, MH, Dharaiya, E., Burns, R., Fryd, DS, Salganicoff, M., Anand, V., Shreter, U., Vastagh, S., Croft, BY,  Clarke, LP (2015). Dane z LIDC-IDRI [zestaw danych]. Archiwum obrazowania raka. https://doi.org/10.7937/K9/TCIA.2015.LO9QL9SX\n",
    "\n",
    "Potwierdzenie\n",
    "Prosimy pamiętać o uwzględnieniu w publikacjach i wnioskach o dotacje następującego przypisu wraz z odniesieniami do odpowiednich publikacji LIDC:\n",
    "\n",
    "„Autorzy pragną podziękować Narodowemu Instytutowi Raka i Fundacji Narodowych Instytutów Zdrowia oraz ich kluczowej roli w stworzeniu bezpłatnej, publicznie dostępnej bazy danych LIDC/IDRI wykorzystanej w tym badaniu”.\n",
    "\n",
    "**Artykuły:**  \n",
    "- Betti, Ghufran Abbas, et al. \"Lung Cancer classification using an ensemble of CNNs Method in CT Scan Images.\" Journal of Education for Pure Science-University of Thi-Qar 14.2 (2024).  \n",
    "*Metrics: Acc: 98 Sen: 99.15  Spe: 97.06 ; Imaging: CT scans ; Methods: Ensemble of CNNs*\n",
    "\n",
    "- Gondkar, Raju Ramakrishna, Sureka R. Gondkar, and Siva Balan RV. \"Hybrid Deep Learning Based GRU Model for Classifying the Lung Cancer from CT Scan Images.\" 2024 Third International Conference on Distributed Computing and Electrical Circuits and Electronics (ICDCECE). IEEE, 2024.  \n",
    "*Metrics: Acc: 95 Sen: 99.14  Spe: 90 ; Imaging: CT scans ; Methods: KL+1D CNN+GRU*\n",
    "\n",
    "- Li, Dana, et al. \"The performance of deep learning algorithms on automatic pulmonary nodule detection and classification tested on different datasets that are not derived from LIDC-IDRI: a systematic review.\" Diagnostics 9.4 (2019): 207.\n",
    "*Metrics: clasification acc: 68–99.6%, detection acc: 80.6–94%; Imaging: CT scans ; Methods: Three different deep learning architectures were mentioned amongst the included studies: convolutional neural network (CNN), massive training artificial neural network (MTANN), and deep stacked denoising autoencoder extreme learning machine (SDAE-ELM)*"
   ]
  }
 ],
 "metadata": {
  "language_info": {
   "name": "python"
  }
 },
 "nbformat": 4,
 "nbformat_minor": 5
}
